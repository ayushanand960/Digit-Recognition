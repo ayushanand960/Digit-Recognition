{
  "cells": [
    {
      "cell_type": "markdown",
      "source": [
        "# Importing Libraries"
      ],
      "metadata": {
        "id": "7DXcDUERP4J9"
      }
    },
    {
      "cell_type": "code",
      "execution_count": null,
      "metadata": {
        "id": "kCZ1-vAdJsG9"
      },
      "outputs": [],
      "source": [
        "import numpy as np\n",
        "import matplotlib.pyplot as plt\n",
        "import tensorflow as tf\n",
        "import keras\n",
        "from keras.datasets import mnist \n"
      ]
    },
    {
      "cell_type": "markdown",
      "source": [
        "# Getting Dataset"
      ],
      "metadata": {
        "id": "Ef9G4XolQJAT"
      }
    },
    {
      "cell_type": "code",
      "execution_count": null,
      "metadata": {
        "id": "ClNwYF4cJ8Wa",
        "colab": {
          "base_uri": "https://localhost:8080/"
        },
        "outputId": "c24cf2f4-2775-447d-d3a3-98dd07bf53ba"
      },
      "outputs": [
        {
          "output_type": "stream",
          "name": "stdout",
          "text": [
            "Downloading data from https://storage.googleapis.com/tensorflow/tf-keras-datasets/mnist.npz\n",
            "11490434/11490434 [==============================] - 1s 0us/step\n"
          ]
        }
      ],
      "source": [
        "(X_train, y_train), (X_test, y_test) = mnist.load_data()"
      ]
    },
    {
      "cell_type": "code",
      "execution_count": null,
      "metadata": {
        "colab": {
          "base_uri": "https://localhost:8080/"
        },
        "id": "QzGpKmLnLNzC",
        "outputId": "74018e90-be86-4a37-a0ef-f77aaf9370d6"
      },
      "outputs": [
        {
          "output_type": "execute_result",
          "data": {
            "text/plain": [
              "((60000, 28, 28), (60000,), (10000, 28, 28), (10000,))"
            ]
          },
          "metadata": {},
          "execution_count": 3
        }
      ],
      "source": [
        "X_train.shape, y_train.shape, X_test.shape, y_test.shape"
      ]
    },
    {
      "cell_type": "code",
      "execution_count": null,
      "metadata": {
        "colab": {
          "base_uri": "https://localhost:8080/",
          "height": 452
        },
        "id": "aEhPXBEU9poS",
        "outputId": "a49381af-0fd0-4703-961d-9b25adb2f7da"
      },
      "outputs": [
        {
          "output_type": "display_data",
          "data": {
            "text/plain": [
              "<Figure size 640x480 with 1 Axes>"
            ],
            "image/png": "[encoded data removed]"
          },
          "metadata": {}
        }
      ],
      "source": [
        "def plot_img(i):\n",
        "  plt.imshow(X_train[i], cmap = 'binary')\n",
        "  plt.title(y_train[i])\n",
        "  plt.show()\n",
        "\n",
        "plot_img(6000)"
      ]
    },
    {
      "cell_type": "markdown",
      "source": [
        "# Pre-Processing Data"
      ],
      "metadata": {
        "id": "DaiXhWwNQQqS"
      }
    },
    {
      "cell_type": "code",
      "source": [
        "X_train = X_train.astype(np.float32)/255\n",
        "X_test = X_test.astype(np.float32)/255\n",
        "\n",
        "X_train = np.expand_dims(X_train, -1)\n",
        "X_test = np.expand_dims(X_test, -1)"
      ],
      "metadata": {
        "id": "H9OmZbaaP7N7"
      },
      "execution_count": null,
      "outputs": []
    },
    {
      "cell_type": "code",
      "source": [
        "y_train = keras.utils.to_categorical(y_train)\n",
        "y_test = keras.utils.to_categorical(y_test)"
      ],
      "metadata": {
        "id": "rBXX3_m1QhR0"
      },
      "execution_count": null,
      "outputs": []
    },
    {
      "cell_type": "markdown",
      "source": [
        "# Model Training"
      ],
      "metadata": {
        "id": "3rLTmnejQXDE"
      }
    },
    {
      "cell_type": "code",
      "execution_count": null,
      "metadata": {
        "id": "Z1fP2awXEJO0"
      },
      "outputs": [],
      "source": [
        "cnn = tf.keras.models.Sequential()\n",
        "\n",
        "cnn.add(tf.keras.layers.Conv2D(filters=32, kernel_size=3, activation='relu', input_shape=[28, 28, 1]))\n",
        "cnn.add(tf.keras.layers.MaxPool2D(pool_size=2, strides=2))\n",
        "\n",
        "cnn.add(tf.keras.layers.Conv2D(filters=64, kernel_size=3, activation='relu'))\n",
        "cnn.add(tf.keras.layers.MaxPool2D(pool_size=2, strides=2))\n",
        "\n",
        "cnn.add(tf.keras.layers.Flatten())\n",
        "cnn.add(tf.keras.layers.Dropout(0.25))\n",
        "cnn.add(tf.keras.layers.Dense(10,activation = \"softmax\"))\n",
        "\n"
      ]
    },
    {
      "cell_type": "code",
      "source": [
        "cnn.summary()"
      ],
      "metadata": {
        "colab": {
          "base_uri": "https://localhost:8080/"
        },
        "id": "hBRDW80a2qk1",
        "outputId": "92868156-ee51-45f3-ec66-17e45e8cd611"
      },
      "execution_count": null,
      "outputs": [
        {
          "output_type": "stream",
          "name": "stdout",
          "text": [
            "Model: \"sequential\"\n",
            "_________________________________________________________________\n",
            " Layer (type)                Output Shape              Param #   \n",
            "=================================================================\n",
            " conv2d (Conv2D)             (None, 26, 26, 32)        320       \n",
            "                                                                 \n",
            " max_pooling2d (MaxPooling2D  (None, 13, 13, 32)       0         \n",
            " )                                                               \n",
            "                                                                 \n",
            " conv2d_1 (Conv2D)           (None, 11, 11, 64)        18496     \n",
            "                                                                 \n",
            " max_pooling2d_1 (MaxPooling  (None, 5, 5, 64)         0         \n",
            " 2D)                                                             \n",
            "                                                                 \n",
            " flatten (Flatten)           (None, 1600)              0         \n",
            "                                                                 \n",
            " dropout (Dropout)           (None, 1600)              0         \n",
            "                                                                 \n",
            " dense (Dense)               (None, 10)                16010     \n",
            "                                                                 \n",
            "=================================================================\n",
            "Total params: 34,826\n",
            "Trainable params: 34,826\n",
            "Non-trainable params: 0\n",
            "_________________________________________________________________\n"
          ]
        }
      ]
    },
    {
      "cell_type": "code",
      "execution_count": null,
      "metadata": {
        "id": "m__DvBdjJEas"
      },
      "outputs": [],
      "source": [
        "cnn.compile(optimizer = 'adam', loss = keras.losses.categorical_crossentropy , metrics = ['accuracy'])"
      ]
    },
    {
      "cell_type": "code",
      "source": [
        "cnn.fit(X_train, y_train, epochs = 25, validation_split=0.3)"
      ],
      "metadata": {
        "colab": {
          "base_uri": "https://localhost:8080/"
        },
        "id": "TJwnrUocOj-B",
        "outputId": "35f8c0df-1c9c-418a-a629-eff70dabd3e5"
      },
      "execution_count": null,
      "outputs": [
        {
          "output_type": "stream",
          "name": "stdout",
          "text": [
            "Epoch 1/25\n",
            "1313/1313 [==============================] - 45s 34ms/step - loss: 0.0073 - accuracy: 0.9973 - val_loss: 0.0544 - val_accuracy: 0.9898\n",
            "Epoch 2/25\n",
            "1313/1313 [==============================] - 38s 29ms/step - loss: 0.0078 - accuracy: 0.9972 - val_loss: 0.0536 - val_accuracy: 0.9896\n",
            "Epoch 3/25\n",
            "1313/1313 [==============================] - 37s 28ms/step - loss: 0.0087 - accuracy: 0.9970 - val_loss: 0.0468 - val_accuracy: 0.9912\n",
            "Epoch 4/25\n",
            "1313/1313 [==============================] - 38s 29ms/step - loss: 0.0092 - accuracy: 0.9968 - val_loss: 0.0533 - val_accuracy: 0.9899\n",
            "Epoch 5/25\n",
            "1313/1313 [==============================] - 37s 28ms/step - loss: 0.0066 - accuracy: 0.9977 - val_loss: 0.0472 - val_accuracy: 0.9907\n",
            "Epoch 6/25\n",
            "1313/1313 [==============================] - 38s 29ms/step - loss: 0.0054 - accuracy: 0.9981 - val_loss: 0.0491 - val_accuracy: 0.9908\n",
            "Epoch 7/25\n",
            "1313/1313 [==============================] - 35s 27ms/step - loss: 0.0080 - accuracy: 0.9973 - val_loss: 0.0448 - val_accuracy: 0.9914\n",
            "Epoch 8/25\n",
            "1313/1313 [==============================] - 38s 29ms/step - loss: 0.0067 - accuracy: 0.9973 - val_loss: 0.0461 - val_accuracy: 0.9912\n",
            "Epoch 9/25\n",
            "1313/1313 [==============================] - 37s 28ms/step - loss: 0.0061 - accuracy: 0.9978 - val_loss: 0.0515 - val_accuracy: 0.9903\n",
            "Epoch 10/25\n",
            "1313/1313 [==============================] - 37s 28ms/step - loss: 0.0060 - accuracy: 0.9980 - val_loss: 0.0548 - val_accuracy: 0.9906\n",
            "Epoch 11/25\n",
            "1313/1313 [==============================] - 38s 29ms/step - loss: 0.0065 - accuracy: 0.9977 - val_loss: 0.0502 - val_accuracy: 0.9908\n",
            "Epoch 12/25\n",
            "1313/1313 [==============================] - 36s 27ms/step - loss: 0.0073 - accuracy: 0.9975 - val_loss: 0.0497 - val_accuracy: 0.9908\n",
            "Epoch 13/25\n",
            "1313/1313 [==============================] - 36s 28ms/step - loss: 0.0071 - accuracy: 0.9976 - val_loss: 0.0505 - val_accuracy: 0.9907\n",
            "Epoch 14/25\n",
            "1313/1313 [==============================] - 37s 28ms/step - loss: 0.0062 - accuracy: 0.9976 - val_loss: 0.0470 - val_accuracy: 0.9907\n",
            "Epoch 15/25\n",
            "1313/1313 [==============================] - 38s 29ms/step - loss: 0.0049 - accuracy: 0.9981 - val_loss: 0.0519 - val_accuracy: 0.9908\n",
            "Epoch 16/25\n",
            "1313/1313 [==============================] - 37s 28ms/step - loss: 0.0055 - accuracy: 0.9981 - val_loss: 0.0620 - val_accuracy: 0.9897\n",
            "Epoch 17/25\n",
            "1313/1313 [==============================] - 35s 27ms/step - loss: 0.0053 - accuracy: 0.9980 - val_loss: 0.0590 - val_accuracy: 0.9902\n",
            "Epoch 18/25\n",
            "1313/1313 [==============================] - 36s 27ms/step - loss: 0.0061 - accuracy: 0.9980 - val_loss: 0.0682 - val_accuracy: 0.9886\n",
            "Epoch 19/25\n",
            "1313/1313 [==============================] - 37s 28ms/step - loss: 0.0063 - accuracy: 0.9979 - val_loss: 0.0538 - val_accuracy: 0.9908\n",
            "Epoch 20/25\n",
            "1313/1313 [==============================] - 36s 27ms/step - loss: 0.0052 - accuracy: 0.9983 - val_loss: 0.0519 - val_accuracy: 0.9908\n",
            "Epoch 21/25\n",
            "1313/1313 [==============================] - 36s 27ms/step - loss: 0.0074 - accuracy: 0.9975 - val_loss: 0.0524 - val_accuracy: 0.9904\n",
            "Epoch 22/25\n",
            "1313/1313 [==============================] - 35s 27ms/step - loss: 0.0059 - accuracy: 0.9982 - val_loss: 0.0549 - val_accuracy: 0.9909\n",
            "Epoch 23/25\n",
            "1313/1313 [==============================] - 35s 27ms/step - loss: 0.0050 - accuracy: 0.9984 - val_loss: 0.0618 - val_accuracy: 0.9901\n",
            "Epoch 24/25\n",
            "1313/1313 [==============================] - 38s 29ms/step - loss: 0.0055 - accuracy: 0.9983 - val_loss: 0.0569 - val_accuracy: 0.9905\n",
            "Epoch 25/25\n",
            "1313/1313 [==============================] - 35s 27ms/step - loss: 0.0048 - accuracy: 0.9983 - val_loss: 0.0559 - val_accuracy: 0.9913\n"
          ]
        },
        {
          "output_type": "execute_result",
          "data": {
            "text/plain": [
              "<keras.callbacks.History at 0x7ffaf922a560>"
            ]
          },
          "metadata": {},
          "execution_count": 13
        }
      ]
    },
    {
      "cell_type": "markdown",
      "source": [
        "# Evaluating Test samples and Checking accuracy "
      ],
      "metadata": {
        "id": "83A8DfEcX798"
      }
    },
    {
      "cell_type": "code",
      "source": [
        "test_loss, test_acc = cnn.evaluate(X_test, y_test)"
      ],
      "metadata": {
        "colab": {
          "base_uri": "https://localhost:8080/"
        },
        "id": "xpyxWE103MOY",
        "outputId": "a78163f1-5fd7-4eae-da51-c67ede0bf834"
      },
      "execution_count": null,
      "outputs": [
        {
          "output_type": "stream",
          "name": "stdout",
          "text": [
            "313/313 [==============================] - 2s 8ms/step - loss: 0.0415 - accuracy: 0.9927\n"
          ]
        }
      ]
    },
    {
      "cell_type": "code",
      "source": [
        "print(\"Validation accuracy on 10,000 test samples : \", test_acc)"
      ],
      "metadata": {
        "colab": {
          "base_uri": "https://localhost:8080/"
        },
        "id": "9mlw0hmLXobG",
        "outputId": "8eb1c91e-892e-4f3a-ad92-3e33d9b159cc"
      },
      "execution_count": null,
      "outputs": [
        {
          "output_type": "stream",
          "name": "stdout",
          "text": [
            "Validation accuracy on 10,000 test samples :  0.9926999807357788\n"
          ]
        }
      ]
    }
  ],
  "metadata": {
    "colab": {
      "provenance": [],
      "toc_visible": true
    },
    "kernelspec": {
      "display_name": "Python 3",
      "name": "python3"
    },
    "language_info": {
      "name": "python"
    }
  },
  "nbformat": 4,
  "nbformat_minor": 0
}